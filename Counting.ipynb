{
 "cells": [
  {
   "cell_type": "code",
   "execution_count": 81,
   "metadata": {},
   "outputs": [
    {
     "name": "stdout",
     "output_type": "stream",
     "text": [
      "[2, 1, 0]\n"
     ]
    }
   ],
   "source": [
    "'''\n",
    "From a give list of queries, count the number of times each element occurs in strings\n",
    "\n",
    "Expected output [2,1,0]\n",
    "\n",
    "'''\n",
    "strings = [\"aba\",\"baba\",\"aba\",\"xzxb\"]\n",
    "queries = [\"aba\",\"xzxb\",\"ab\"]\n",
    "\n",
    "def matchingStrings(strings, queries):\n",
    "    count=[]\n",
    "\n",
    "    for i in range(len(queries)):\n",
    "        c = strings.count(queries[i])\n",
    "        count.append(c)\n",
    "    \n",
    "    print(count)\n",
    "    return\n",
    "\n",
    "matchingStrings(strings,queries)"
   ]
  },
  {
   "cell_type": "code",
   "execution_count": 83,
   "metadata": {},
   "outputs": [
    {
     "data": {
      "text/plain": [
       "{1: 2, 2: 2, 3: 2, 4: 1}"
      ]
     },
     "execution_count": 83,
     "metadata": {},
     "output_type": "execute_result"
    }
   ],
   "source": [
    "'''\n",
    "Find the lonely interger\n",
    "'''\n",
    "\n",
    "a = [1,2,3,4,3,2,1]\n",
    "\n",
    "def lonelyinteger(a):\n",
    "    count = {}\n",
    "    \n",
    "    for number in a:\n",
    "        if number in count:\n",
    "            count[number] += 1\n",
    "        else:\n",
    "            count[number] = 1\n",
    "    \n",
    "    # Find and return the element that appears only once\n",
    "    for key, value in count.items():\n",
    "        if value == 1:\n",
    "            return key\n",
    "\n",
    "\n",
    "lonelyinteger(a)"
   ]
  }
 ],
 "metadata": {
  "kernelspec": {
   "display_name": "Python 3",
   "language": "python",
   "name": "python3"
  },
  "language_info": {
   "codemirror_mode": {
    "name": "ipython",
    "version": 3
   },
   "file_extension": ".py",
   "mimetype": "text/x-python",
   "name": "python",
   "nbconvert_exporter": "python",
   "pygments_lexer": "ipython3",
   "version": "3.13.0"
  }
 },
 "nbformat": 4,
 "nbformat_minor": 2
}
