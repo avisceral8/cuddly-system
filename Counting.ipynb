{
 "cells": [
  {
   "cell_type": "code",
   "execution_count": 16,
   "metadata": {},
   "outputs": [],
   "source": [
    "import numpy as np\n",
    "import math\n",
    "import os\n",
    "import random\n",
    "import re\n",
    "import sys\n",
    "import statistics as st"
   ]
  },
  {
   "cell_type": "code",
   "execution_count": null,
   "metadata": {},
   "outputs": [],
   "source": [
    "#NPS calculation\n",
    "\n",
    "score = np.loadtxt('survey.txt', dtype='int')\n",
    "total = len(score)\n",
    "promotors = len(score[score >= 9])\n",
    "detractors = len(score[score <= 6])\n",
    "p_prec= promotors/total\n",
    "d_prec= detractors/total\n",
    "\n",
    "nps = p_prec - d_prec\n",
    "round(nps*100, 2)"
   ]
  },
  {
   "cell_type": "code",
   "execution_count": 34,
   "metadata": {},
   "outputs": [],
   "source": [
    "def quartiles(arr):\n",
    "    arr.sort()\n",
    "    first = 0\n",
    "    second = st.median(arr)\n",
    "    third = 0\n",
    "    d = int(len(arr))\n",
    "    d2 = int(d/2)\n",
    "\n",
    "    if d%2 == 0 :\n",
    "        first = arr[:d2]\n",
    "        third = arr[d2:]\n",
    "    else :\n",
    "        first = arr[:(d2)]\n",
    "        third = arr[-d2:]\n",
    "\n",
    "    first = st.median(first)\n",
    "    third = st.median (third)\n",
    "\n",
    "\n",
    "    return first, second, third\n",
    "arr = [3, 7, 8, 5, 12, 14, 21, 13,18]\n",
    "quartiles(arr)"
   ]
  },
  {
   "cell_type": "code",
   "execution_count": 56,
   "metadata": {},
   "outputs": [],
   "source": [
    "def stdDev(arr):\n",
    "    mean = sum(arr)/len(arr)\n",
    "    new_arr = []\n",
    "\n",
    "    for value in arr:\n",
    "        sdif = (value-mean)**2\n",
    "        new_arr.append(sdif)\n",
    "    \n",
    "    new_arr = ((sum(new_arr)/len(arr))**(1/2))\n",
    "    new_arr = round(new_arr,1)\n",
    "\n",
    "    return new_arr\n",
    "\n",
    "arr =[10, 40, 30, 50, 20]\n",
    "stdDev(arr)"
   ]
  },
  {
   "cell_type": "code",
   "execution_count": 79,
   "metadata": {},
   "outputs": [
    {
     "name": "stdout",
     "output_type": "stream",
     "text": [
      "25.0\n"
     ]
    }
   ],
   "source": [
    "def interQuartile(values, freqs):\n",
    "    new_val = []\n",
    "    for i in range(len(values)):\n",
    "        new_val.extend([values[i]] * freqs[i])\n",
    "    new_val.sort()\n",
    "    \n",
    "    d = int(len(new_val)/2)\n",
    "    \n",
    "    first = new_val[:d]\n",
    "    last = new_val[d:]\n",
    "    \n",
    "    first = float(st.median(first))\n",
    "    last = float(st.median(last))\n",
    "\n",
    "    iqr = round(last - first, 1)\n",
    "    \n",
    "    print(iqr)\n",
    "\n",
    "    return\n",
    "\n",
    "values = [10, 40, 30, 50, 20]\n",
    "freqs = [1, 2, 3, 4, 5]\n",
    "interQuartile(values, freqs)"
   ]
  },
  {
   "cell_type": "code",
   "execution_count": 81,
   "metadata": {},
   "outputs": [
    {
     "name": "stdout",
     "output_type": "stream",
     "text": [
      "[2, 1, 0]\n"
     ]
    }
   ],
   "source": [
    "strings = [\"aba\",\"baba\",\"aba\",\"xzxb\"]\n",
    "queries = [\"aba\",\"xzxb\",\"ab\"]\n",
    "\n",
    "def matchingStrings(strings, queries):\n",
    "    count=[]\n",
    "\n",
    "    for i in range(len(queries)):\n",
    "        c = strings.count(queries[i])\n",
    "        count.append(c)\n",
    "    \n",
    "    print(count)\n",
    "    return\n",
    "\n",
    "matchingStrings(strings,queries)"
   ]
  },
  {
   "cell_type": "code",
   "execution_count": 83,
   "metadata": {},
   "outputs": [
    {
     "data": {
      "text/plain": [
       "{1: 2, 2: 2, 3: 2, 4: 1}"
      ]
     },
     "execution_count": 83,
     "metadata": {},
     "output_type": "execute_result"
    }
   ],
   "source": [
    "a = [1,2,3,4,3,2,1]\n",
    "\n",
    "def lonelyinteger(a):\n",
    "    count = {}\n",
    "    \n",
    "    for number in a:\n",
    "        if number in count:\n",
    "            count[number] += 1\n",
    "        else:\n",
    "            count[number] = 1\n",
    "    \n",
    "    # Find and return the element that appears only once\n",
    "    for key, value in count.items():\n",
    "        if value == 1:\n",
    "            return key\n",
    "\n",
    "\n",
    "lonelyinteger(a)"
   ]
  },
  {
   "cell_type": "code",
   "execution_count": 102,
   "metadata": {},
   "outputs": [
    {
     "data": {
      "text/plain": [
       "4"
      ]
     },
     "execution_count": 102,
     "metadata": {},
     "output_type": "execute_result"
    }
   ],
   "source": [
    "mat = np.array([[11, 2, 4,],[4, 5, 6,],[10, 8, -12]])\n",
    "\n",
    "def diagonalDifference(arr):\n",
    "    n = len(arr)\n",
    "    primary_diagonal_sum = 0\n",
    "    secondary_diagonal_sum = 0\n",
    "\n",
    "    # Calculate the primary diagonal\n",
    "    for i in range(n):\n",
    "        primary_diagonal_sum += arr[i][i]\n",
    "\n",
    "    # Calculate the secondary diagonal\n",
    "    for i in range(n):\n",
    "        secondary_diagonal_sum += arr[i][n - i - 1]\n",
    "\n",
    "    return abs(primary_diagonal_sum - secondary_diagonal_sum)\n",
    "\n",
    "diagonalDifference(mat)"
   ]
  },
  {
   "cell_type": "code",
   "execution_count": 119,
   "metadata": {},
   "outputs": [],
   "source": [
    "# Path to your input file\n",
    "file_path = 'input07.txt'\n",
    "\n",
    "# Read the entire content of the file into a variable\n",
    "with open(file_path, 'r') as file:\n",
    "    data = file.read()\n",
    "\n",
    "# Split the data by newlines to get individual lines\n",
    "lines = data.strip().split('\\n')\n",
    "\n",
    "# Parse the first line to get the size of the matrix\n",
    "n = int(lines[0].strip())\n",
    "\n",
    "# Initialize an empty list to store the rows of the matrix\n",
    "arr = []\n",
    "\n",
    "# Iterate over the remaining lines and parse each row into integers\n",
    "for line in lines[1:]:\n",
    "    arr.append(list(map(int, line.split())))"
   ]
  },
  {
   "cell_type": "code",
   "execution_count": 121,
   "metadata": {},
   "outputs": [
    {
     "data": {
      "text/plain": [
       "100"
      ]
     },
     "execution_count": 121,
     "metadata": {},
     "output_type": "execute_result"
    }
   ],
   "source": [
    "n"
   ]
  },
  {
   "cell_type": "code",
   "execution_count": null,
   "metadata": {},
   "outputs": [],
   "source": []
  }
 ],
 "metadata": {
  "kernelspec": {
   "display_name": "Python 3",
   "language": "python",
   "name": "python3"
  },
  "language_info": {
   "codemirror_mode": {
    "name": "ipython",
    "version": 3
   },
   "file_extension": ".py",
   "mimetype": "text/x-python",
   "name": "python",
   "nbconvert_exporter": "python",
   "pygments_lexer": "ipython3",
   "version": "3.13.0"
  }
 },
 "nbformat": 4,
 "nbformat_minor": 2
}
